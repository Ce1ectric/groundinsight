{
 "cells": [
  {
   "cell_type": "code",
   "execution_count": 7,
   "metadata": {},
   "outputs": [
    {
     "name": "stdout",
     "output_type": "stream",
     "text": [
      "Mon Nov 25 12:22:23 2024    profile_out.prof\n",
      "\n",
      "         22747726 function calls (22449990 primitive calls) in 11.979 seconds\n",
      "\n",
      "   Ordered by: cumulative time\n",
      "   List reduced from 9903 to 20 due to restriction <20>\n",
      "\n",
      "   ncalls  tottime  percall  cumtime  percall filename:lineno(function)\n",
      "   3353/1    0.028    0.000   12.056   12.056 {built-in method builtins.exec}\n",
      "        1    0.002    0.002   12.056   12.056 profiling.py:1(<module>)\n",
      "      300    0.005    0.000    9.011    0.030 network_operations.py:150(run_fault)\n",
      "   994794    1.623    0.000    3.778    0.000 main.py:202(__init__)\n",
      "      300    0.534    0.002    3.669    0.012 electrical_network.py:327(solve_network)\n",
      "      168    0.003    0.000    2.698    0.016 __init__.py:1(<module>)\n",
      "      300    0.466    0.002    2.169    0.007 electrical_network.py:385(compute_branch_currents)\n",
      "      300    0.004    0.000    2.162    0.007 electrical_network.py:447(compute_reduction_factors)\n",
      "   994794    1.081    0.000    2.155    0.000 {method 'validate_python' of 'pydantic_core._pydantic_core.SchemaValidator' objects}\n",
      "      900    2.125    0.002    2.133    0.002 _linalg.py:320(solve)\n",
      "      299    0.001    0.000    1.333    0.004 network_operations.py:42(create_branch)\n",
      "      299    0.000    0.000    1.331    0.004 core_models.py:569(add_branch)\n",
      "      299    0.004    0.000    1.331    0.004 core_models.py:317(calculate_impedance)\n",
      "      299    0.003    0.000    1.313    0.004 core_models.py:273(_compile_impedance_functions)\n",
      "  1460/18    0.004    0.000    1.061    0.059 <frozen importlib._bootstrap>:1349(_find_and_load)\n",
      "  1454/18    0.003    0.000    1.060    0.059 <frozen importlib._bootstrap>:1304(_find_and_load_unlocked)\n",
      "  1403/18    0.003    0.000    1.059    0.059 <frozen importlib._bootstrap>:911(_load_unlocked)\n",
      "  1314/18    0.001    0.000    1.059    0.059 <frozen importlib._bootstrap_external>:1016(exec_module)\n",
      "  3274/35    0.003    0.000    1.057    0.030 <frozen importlib._bootstrap>:480(_call_with_frames_removed)\n",
      "      300    0.001    0.000    0.995    0.003 network_operations.py:141(build_electrical_network)\n",
      "\n",
      "\n"
     ]
    },
    {
     "data": {
      "text/plain": [
       "<pstats.Stats at 0x103612be0>"
      ]
     },
     "execution_count": 7,
     "metadata": {},
     "output_type": "execute_result"
    }
   ],
   "source": [
    "import pstats\n",
    "\n",
    "p = pstats.Stats('profile_out.prof')\n",
    "p.strip_dirs().sort_stats('cumtime').print_stats(20)\n"
   ]
  },
  {
   "cell_type": "code",
   "execution_count": null,
   "metadata": {},
   "outputs": [],
   "source": []
  }
 ],
 "metadata": {
  "kernelspec": {
   "display_name": "groundinsight-yDfiDBQV-py3.13",
   "language": "python",
   "name": "python3"
  },
  "language_info": {
   "codemirror_mode": {
    "name": "ipython",
    "version": 3
   },
   "file_extension": ".py",
   "mimetype": "text/x-python",
   "name": "python",
   "nbconvert_exporter": "python",
   "pygments_lexer": "ipython3",
   "version": "3.13.0"
  }
 },
 "nbformat": 4,
 "nbformat_minor": 2
}
