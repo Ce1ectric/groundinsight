{
 "cells": [
  {
   "cell_type": "code",
   "execution_count": 6,
   "metadata": {},
   "outputs": [
    {
     "name": "stdout",
     "output_type": "stream",
     "text": [
      "Key: 50 (numerical: True), Value: 120+1j (numerical: True)\n",
      "Key: 150 (numerical: True), Value: 200.0 (numerical: True)\n",
      "Key: 250 (numerical: True), Value: (300+200j) (numerical: True)\n",
      "Key: no_num (numerical: False), Value: 300 (numerical: True)\n",
      "Key: 50 (numerical: True), Value: no_num (numerical: False)\n",
      "Key: 100 (numerical: True), Value: {'real': 1, 'imag': 100} (numerical: True)\n"
     ]
    }
   ],
   "source": [
    "import ast\n",
    "\n",
    "# Your dictionary\n",
    "my_dict = {\"50\": \"120+1j\", 150: \"200.0\", 250: 300+200j, \"no_num\": 300, 50: \"no_num\", 100: {\"real\":1, \"imag\":100}}\n",
    "\n",
    "def is_number(value):\n",
    "    \"\"\"Check if the value is a number or a numerical string.\"\"\"\n",
    "    if isinstance(value, (int, float, complex)):\n",
    "        return True\n",
    "    elif isinstance(value, str):\n",
    "        try:\n",
    "            # Safely evaluate the string to check if it's a number\n",
    "            result = ast.literal_eval(value)\n",
    "            return isinstance(result, (int, float, complex))\n",
    "        except (ValueError, SyntaxError):\n",
    "            return False\n",
    "    elif isinstance(value, dict):\n",
    "        # Check if dict represents a complex number with 'real' and 'imag' keys\n",
    "        if set(value.keys()) == {'real', 'imag'}:\n",
    "            real = value['real']\n",
    "            imag = value['imag']\n",
    "            # Check if both 'real' and 'imag' are numbers\n",
    "            return isinstance(real, (int, float)) and isinstance(imag, (int, float))\n",
    "        else:\n",
    "            return False\n",
    "    else:\n",
    "        return False\n",
    "\n",
    "# Iterate over the dictionary and check keys and values\n",
    "for key, val in my_dict.items():\n",
    "    key_is_number = is_number(key)\n",
    "    val_is_number = is_number(val)\n",
    "    print(f\"Key: {key} (numerical: {key_is_number}), Value: {val} (numerical: {val_is_number})\")\n"
   ]
  },
  {
   "cell_type": "code",
   "execution_count": 6,
   "metadata": {},
   "outputs": [
    {
     "data": {
      "text/plain": [
       "[0,\n",
       " 0,\n",
       " 0,\n",
       " 0,\n",
       " -Y_56a - Y_56b - Y_56c,\n",
       " Y_56a + Y_56b + Y_56c + Y_66 + Y_67,\n",
       " -Y_67,\n",
       " U_56a*Y_56a + U_56b*Y_56b + U_56c*Y_56c - U_67*Y_67]"
      ]
     },
     "execution_count": 6,
     "metadata": {},
     "output_type": "execute_result"
    }
   ],
   "source": [
    "import sympy as sp\n",
    "\n",
    "#function which returns the coefficents\n",
    "\n",
    "def get_coefficents(eq, var:list):\n",
    "    \"\"\"Return the coefficients of the given equation for the given variable.\"\"\"\n",
    "    # Get the polynomial representation of the equation, iterate over all var terms which are given as a list\n",
    "    poly = eq.as_poly(var)\n",
    "\n",
    "    coeffs = [sp.simplify(poly.coeff_monomial(i)) for i in var]\n",
    "    coeffs.append(poly.coeff_monomial(1))\n",
    "    # Return the coefficients\n",
    "    return coeffs\n",
    "\n",
    "def get_par(U_list:list, Y_list:list):\n",
    "    #sum up all the elements of the list\n",
    "    Yp = 0\n",
    "    Ip = 0\n",
    "    for U, Y in zip(U_list, Y_list):\n",
    "        Yp = Yp + Y\n",
    "        Ip = Ip + U*Y\n",
    "    Up = Ip/Yp\n",
    "    return Up, Yp\n",
    "\n",
    "\n",
    "#solving the equations of a basic model \n",
    "\n",
    "Y11, Y22, Y33, Y44, Y55, Y66, Y77 = sp.symbols(\"Y_11, Y_22, Y_33, Y_44, Y_55, Y_66, Y_77\")\n",
    "Y12, Y23, Y34, Y35, Y56, Y67, Y71, Y36 = sp.symbols(\"Y_12, Y_23, Y_34, Y_35, Y_56, Y_67, Y_71, Y_36\")\n",
    "Y12a, Y12b = sp.symbols(\"Y_12a, Y_12b\")\n",
    "Y56a, Y56b, Y56c = sp.symbols(\"Y_56a, Y_56b, Y_56c\")\n",
    "IS1, IS2, IS3 = sp.symbols(\"I_S1, I_S2, I_S3\")\n",
    "U12a, U12b, U23, U34, U35, U56a, U56b, U56c, U67, U71, U36 = sp.symbols(\"U_12a, U_12b, U_23, U_34, U_35, U_56a, U_56b, U_56c, U_67, U_71, U_36\")\n",
    "uk1, uk2, uk3, uk4, uk5, uk6, uk7 = sp.symbols(\"u_k1, u_k2, u_k3, u_k4, u_k5, u_k6, u_k7\")\n",
    "\n",
    "\n",
    "#solition for nodes node 1\n",
    "U12p, Y12p = get_par([U12a, U12b], [Y12a, Y12b])\n",
    "I12 = Y12p * (uk2 - uk1) + Y12p*U12p\n",
    "U71p, Y71p = get_par([U71], [Y71])\n",
    "I71 = (Y71p * (uk7 - uk1) + Y71p * U71p)\n",
    "eq1 = sp.Eq(IS1 - I71 + uk1*Y11 - I12, 0)\n",
    "\n",
    "#solution for node 2\n",
    "U23p, Y23p = get_par([U23], [Y23])\n",
    "I23 = Y23p * (uk3 - uk2) + Y23p * U23p\n",
    "eq2 = sp.Eq(I12 + uk2*Y22 - I23, 0)\n",
    "\n",
    "#solution for node 3\n",
    "U34p, Y34p = get_par([U34], [Y34])\n",
    "U35p, Y35p = get_par([U35], [Y35])\n",
    "U36p, Y36p = get_par([U36], [Y36])\n",
    "I34 = Y34p * (uk4 - uk3) + Y34p * U34p\n",
    "I35 = Y35p * (uk5 - uk3) + Y35p * U35p\n",
    "I36 = Y36p * (uk6 - uk3) + Y36p * U36p\n",
    "eq3 = sp.Eq(I23 + uk3*Y33 - I35 - I34 - I36, 0)\n",
    "\n",
    "#solution for node 4\n",
    "eq4 = sp.Eq(I34 + IS2 +uk4*Y44, 0)\n",
    "\n",
    "#solution for node 5\n",
    "U56p, Y56p = get_par([U56a, U56b, U56c], [Y56a, Y56b, Y56c])\n",
    "I56 = Y56p * (uk6 - uk5) + Y56p * U56p\n",
    "IF = IS1 + IS2 + IS3\n",
    "eq5 = sp.Eq(I35 +Y55*uk5 - I56 - IF, 0)\n",
    "\n",
    "#solution for node 6\n",
    "U67p, Y67p = get_par([U67], [Y67])\n",
    "I67 = Y67p * (uk7 - uk6) + Y67p * U67p\n",
    "eq6 = sp.Eq(I56 + uk6*Y66 - I67, 0)\n",
    "\n",
    "#solution for node 7\n",
    "eq7 = sp.Eq(I67 + uk7*Y77 + IS3 + I71, 0)\n",
    "\n",
    "coeffs1 = get_coefficents(eq1, [uk1, uk2, uk3, uk4, uk5, uk6, uk7])\n",
    "coeffs2 = get_coefficents(eq2, [uk1, uk2, uk3, uk4, uk5, uk6, uk7])\n",
    "coeffs3 = get_coefficents(eq3, [uk1, uk2, uk3, uk4, uk5, uk6, uk7])\n",
    "coeffs4 = get_coefficents(eq4, [uk1, uk2, uk3, uk4, uk5, uk6, uk7])\n",
    "coeffs5 = get_coefficents(eq5, [uk1, uk2, uk3, uk4, uk5, uk6, uk7])\n",
    "coeffs6 = get_coefficents(eq6, [uk1, uk2, uk3, uk4, uk5, uk6, uk7])\n",
    "coeffs7 = get_coefficents(eq7, [uk1, uk2, uk3, uk4, uk5, uk6, uk7])\n",
    "\n",
    "\n",
    "coeffs6\n",
    "\n"
   ]
  },
  {
   "cell_type": "code",
   "execution_count": 2,
   "metadata": {},
   "outputs": [
    {
     "ename": "SympifyError",
     "evalue": "Sympify of expression 'could not parse '2*x + 3*y - 4*z + 5 +'' failed, because of exception being raised:\nSyntaxError: invalid syntax (<string>, line 1)",
     "output_type": "error",
     "traceback": [
      "\u001b[0;31m---------------------------------------------------------------------------\u001b[0m",
      "\u001b[0;31mValueError\u001b[0m                                Traceback (most recent call last)",
      "\u001b[0;31mValueError\u001b[0m: Error from parse_expr with transformed code: \"Integer (2 )*Symbol ('x' )+Integer (3 )*Symbol ('y' )-Integer (4 )*Symbol ('z' )+Integer (5 )+\"",
      "\nThe above exception was the direct cause of the following exception:\n",
      "\u001b[0;31mSyntaxError\u001b[0m                               Traceback (most recent call last)",
      "File \u001b[0;32m~/Library/Caches/pypoetry/virtualenvs/groundinsight-yDfiDBQV-py3.12/lib/python3.12/site-packages/sympy/core/sympify.py:481\u001b[0m, in \u001b[0;36msympify\u001b[0;34m(a, locals, convert_xor, strict, rational, evaluate)\u001b[0m\n\u001b[1;32m    480\u001b[0m     a \u001b[38;5;241m=\u001b[39m a\u001b[38;5;241m.\u001b[39mreplace(\u001b[38;5;124m'\u001b[39m\u001b[38;5;130;01m\\n\u001b[39;00m\u001b[38;5;124m'\u001b[39m, \u001b[38;5;124m'\u001b[39m\u001b[38;5;124m'\u001b[39m)\n\u001b[0;32m--> 481\u001b[0m     expr \u001b[38;5;241m=\u001b[39m \u001b[43mparse_expr\u001b[49m\u001b[43m(\u001b[49m\u001b[43ma\u001b[49m\u001b[43m,\u001b[49m\u001b[43m \u001b[49m\u001b[43mlocal_dict\u001b[49m\u001b[38;5;241;43m=\u001b[39;49m\u001b[38;5;28;43mlocals\u001b[39;49m\u001b[43m,\u001b[49m\u001b[43m \u001b[49m\u001b[43mtransformations\u001b[49m\u001b[38;5;241;43m=\u001b[39;49m\u001b[43mtransformations\u001b[49m\u001b[43m,\u001b[49m\u001b[43m \u001b[49m\u001b[43mevaluate\u001b[49m\u001b[38;5;241;43m=\u001b[39;49m\u001b[43mevaluate\u001b[49m\u001b[43m)\u001b[49m\n\u001b[1;32m    482\u001b[0m \u001b[38;5;28;01mexcept\u001b[39;00m (TokenError, \u001b[38;5;167;01mSyntaxError\u001b[39;00m) \u001b[38;5;28;01mas\u001b[39;00m exc:\n",
      "File \u001b[0;32m~/Library/Caches/pypoetry/virtualenvs/groundinsight-yDfiDBQV-py3.12/lib/python3.12/site-packages/sympy/parsing/sympy_parser.py:1090\u001b[0m, in \u001b[0;36mparse_expr\u001b[0;34m(s, local_dict, transformations, global_dict, evaluate)\u001b[0m\n\u001b[1;32m   1089\u001b[0m     local_dict[i] \u001b[38;5;241m=\u001b[39m null\n\u001b[0;32m-> 1090\u001b[0m \u001b[38;5;28;01mraise\u001b[39;00m e \u001b[38;5;28;01mfrom\u001b[39;00m \u001b[38;5;21;01mValueError\u001b[39;00m(\u001b[38;5;124mf\u001b[39m\u001b[38;5;124m\"\u001b[39m\u001b[38;5;124mError from parse_expr with transformed code: \u001b[39m\u001b[38;5;132;01m{\u001b[39;00mcode\u001b[38;5;132;01m!r}\u001b[39;00m\u001b[38;5;124m\"\u001b[39m)\n",
      "File \u001b[0;32m~/Library/Caches/pypoetry/virtualenvs/groundinsight-yDfiDBQV-py3.12/lib/python3.12/site-packages/sympy/parsing/sympy_parser.py:1081\u001b[0m, in \u001b[0;36mparse_expr\u001b[0;34m(s, local_dict, transformations, global_dict, evaluate)\u001b[0m\n\u001b[1;32m   1080\u001b[0m \u001b[38;5;28;01mtry\u001b[39;00m:\n\u001b[0;32m-> 1081\u001b[0m     rv \u001b[38;5;241m=\u001b[39m \u001b[43meval_expr\u001b[49m\u001b[43m(\u001b[49m\u001b[43mcode\u001b[49m\u001b[43m,\u001b[49m\u001b[43m \u001b[49m\u001b[43mlocal_dict\u001b[49m\u001b[43m,\u001b[49m\u001b[43m \u001b[49m\u001b[43mglobal_dict\u001b[49m\u001b[43m)\u001b[49m\n\u001b[1;32m   1082\u001b[0m     \u001b[38;5;66;03m# restore neutral definitions for names\u001b[39;00m\n",
      "File \u001b[0;32m~/Library/Caches/pypoetry/virtualenvs/groundinsight-yDfiDBQV-py3.12/lib/python3.12/site-packages/sympy/parsing/sympy_parser.py:909\u001b[0m, in \u001b[0;36meval_expr\u001b[0;34m(code, local_dict, global_dict)\u001b[0m\n\u001b[1;32m    904\u001b[0m \u001b[38;5;250m\u001b[39m\u001b[38;5;124;03m\"\"\"\u001b[39;00m\n\u001b[1;32m    905\u001b[0m \u001b[38;5;124;03mEvaluate Python code generated by ``stringify_expr``.\u001b[39;00m\n\u001b[1;32m    906\u001b[0m \n\u001b[1;32m    907\u001b[0m \u001b[38;5;124;03mGenerally, ``parse_expr`` should be used.\u001b[39;00m\n\u001b[1;32m    908\u001b[0m \u001b[38;5;124;03m\"\"\"\u001b[39;00m\n\u001b[0;32m--> 909\u001b[0m expr \u001b[38;5;241m=\u001b[39m \u001b[38;5;28;43meval\u001b[39;49m\u001b[43m(\u001b[49m\n\u001b[1;32m    910\u001b[0m \u001b[43m    \u001b[49m\u001b[43mcode\u001b[49m\u001b[43m,\u001b[49m\u001b[43m \u001b[49m\u001b[43mglobal_dict\u001b[49m\u001b[43m,\u001b[49m\u001b[43m \u001b[49m\u001b[43mlocal_dict\u001b[49m\u001b[43m)\u001b[49m  \u001b[38;5;66;03m# take local objects in preference\u001b[39;00m\n\u001b[1;32m    911\u001b[0m \u001b[38;5;28;01mreturn\u001b[39;00m expr\n",
      "\u001b[0;31mSyntaxError\u001b[0m: invalid syntax (<string>, line 1)",
      "\nDuring handling of the above exception, another exception occurred:\n",
      "\u001b[0;31mSympifyError\u001b[0m                              Traceback (most recent call last)",
      "Cell \u001b[0;32mIn[2], line 7\u001b[0m\n\u001b[1;32m      4\u001b[0m invalid_formula \u001b[38;5;241m=\u001b[39m \u001b[38;5;124m\"\u001b[39m\u001b[38;5;124m2*x + 3*y - 4*z + 5 +\u001b[39m\u001b[38;5;124m\"\u001b[39m\n\u001b[1;32m      6\u001b[0m sp\u001b[38;5;241m.\u001b[39msimplify(valid_formula)\n\u001b[0;32m----> 7\u001b[0m \u001b[43msp\u001b[49m\u001b[38;5;241;43m.\u001b[39;49m\u001b[43msimplify\u001b[49m\u001b[43m(\u001b[49m\u001b[43minvalid_formula\u001b[49m\u001b[43m)\u001b[49m\n",
      "File \u001b[0;32m~/Library/Caches/pypoetry/virtualenvs/groundinsight-yDfiDBQV-py3.12/lib/python3.12/site-packages/sympy/simplify/simplify.py:588\u001b[0m, in \u001b[0;36msimplify\u001b[0;34m(expr, ratio, measure, rational, inverse, doit, **kwargs)\u001b[0m\n\u001b[1;32m    585\u001b[0m     rv \u001b[38;5;241m=\u001b[39m e\u001b[38;5;241m.\u001b[39mdoit() \u001b[38;5;28;01mif\u001b[39;00m doit \u001b[38;5;28;01melse\u001b[39;00m e\n\u001b[1;32m    586\u001b[0m     \u001b[38;5;28;01mreturn\u001b[39;00m shorter(rv, collect_abs(rv))\n\u001b[0;32m--> 588\u001b[0m expr \u001b[38;5;241m=\u001b[39m \u001b[43msympify\u001b[49m\u001b[43m(\u001b[49m\u001b[43mexpr\u001b[49m\u001b[43m,\u001b[49m\u001b[43m \u001b[49m\u001b[43mrational\u001b[49m\u001b[38;5;241;43m=\u001b[39;49m\u001b[43mrational\u001b[49m\u001b[43m)\u001b[49m\n\u001b[1;32m    589\u001b[0m kwargs \u001b[38;5;241m=\u001b[39m {\n\u001b[1;32m    590\u001b[0m     \u001b[38;5;124m\"\u001b[39m\u001b[38;5;124mratio\u001b[39m\u001b[38;5;124m\"\u001b[39m: kwargs\u001b[38;5;241m.\u001b[39mget(\u001b[38;5;124m'\u001b[39m\u001b[38;5;124mratio\u001b[39m\u001b[38;5;124m'\u001b[39m, ratio),\n\u001b[1;32m    591\u001b[0m     \u001b[38;5;124m\"\u001b[39m\u001b[38;5;124mmeasure\u001b[39m\u001b[38;5;124m\"\u001b[39m: kwargs\u001b[38;5;241m.\u001b[39mget(\u001b[38;5;124m'\u001b[39m\u001b[38;5;124mmeasure\u001b[39m\u001b[38;5;124m'\u001b[39m, measure),\n\u001b[1;32m    592\u001b[0m     \u001b[38;5;124m\"\u001b[39m\u001b[38;5;124mrational\u001b[39m\u001b[38;5;124m\"\u001b[39m: kwargs\u001b[38;5;241m.\u001b[39mget(\u001b[38;5;124m'\u001b[39m\u001b[38;5;124mrational\u001b[39m\u001b[38;5;124m'\u001b[39m, rational),\n\u001b[1;32m    593\u001b[0m     \u001b[38;5;124m\"\u001b[39m\u001b[38;5;124minverse\u001b[39m\u001b[38;5;124m\"\u001b[39m: kwargs\u001b[38;5;241m.\u001b[39mget(\u001b[38;5;124m'\u001b[39m\u001b[38;5;124minverse\u001b[39m\u001b[38;5;124m'\u001b[39m, inverse),\n\u001b[1;32m    594\u001b[0m     \u001b[38;5;124m\"\u001b[39m\u001b[38;5;124mdoit\u001b[39m\u001b[38;5;124m\"\u001b[39m: kwargs\u001b[38;5;241m.\u001b[39mget(\u001b[38;5;124m'\u001b[39m\u001b[38;5;124mdoit\u001b[39m\u001b[38;5;124m'\u001b[39m, doit)}\n\u001b[1;32m    595\u001b[0m \u001b[38;5;66;03m# no routine for Expr needs to check for is_zero\u001b[39;00m\n",
      "File \u001b[0;32m~/Library/Caches/pypoetry/virtualenvs/groundinsight-yDfiDBQV-py3.12/lib/python3.12/site-packages/sympy/core/sympify.py:483\u001b[0m, in \u001b[0;36msympify\u001b[0;34m(a, locals, convert_xor, strict, rational, evaluate)\u001b[0m\n\u001b[1;32m    481\u001b[0m     expr \u001b[38;5;241m=\u001b[39m parse_expr(a, local_dict\u001b[38;5;241m=\u001b[39m\u001b[38;5;28mlocals\u001b[39m, transformations\u001b[38;5;241m=\u001b[39mtransformations, evaluate\u001b[38;5;241m=\u001b[39mevaluate)\n\u001b[1;32m    482\u001b[0m \u001b[38;5;28;01mexcept\u001b[39;00m (TokenError, \u001b[38;5;167;01mSyntaxError\u001b[39;00m) \u001b[38;5;28;01mas\u001b[39;00m exc:\n\u001b[0;32m--> 483\u001b[0m     \u001b[38;5;28;01mraise\u001b[39;00m SympifyError(\u001b[38;5;124m'\u001b[39m\u001b[38;5;124mcould not parse \u001b[39m\u001b[38;5;132;01m%r\u001b[39;00m\u001b[38;5;124m'\u001b[39m \u001b[38;5;241m%\u001b[39m a, exc)\n\u001b[1;32m    485\u001b[0m \u001b[38;5;28;01mreturn\u001b[39;00m expr\n",
      "\u001b[0;31mSympifyError\u001b[0m: Sympify of expression 'could not parse '2*x + 3*y - 4*z + 5 +'' failed, because of exception being raised:\nSyntaxError: invalid syntax (<string>, line 1)"
     ]
    }
   ],
   "source": [
    "import sympy as sp\n",
    "\n",
    "valid_formula = \"2*x + 3*y - 4*z + 5\"\n",
    "invalid_formula = \"2*x + 3*y - 4*z + 5 +\"\n",
    "\n",
    "sp.simplify(valid_formula)\n",
    "sp.simplify(invalid_formula)"
   ]
  },
  {
   "cell_type": "code",
   "execution_count": null,
   "metadata": {},
   "outputs": [],
   "source": []
  }
 ],
 "metadata": {
  "kernelspec": {
   "display_name": "groundinsight-yDfiDBQV-py3.12",
   "language": "python",
   "name": "python3"
  },
  "language_info": {
   "codemirror_mode": {
    "name": "ipython",
    "version": 3
   },
   "file_extension": ".py",
   "mimetype": "text/x-python",
   "name": "python",
   "nbconvert_exporter": "python",
   "pygments_lexer": "ipython3",
   "version": "3.12.7"
  }
 },
 "nbformat": 4,
 "nbformat_minor": 2
}
